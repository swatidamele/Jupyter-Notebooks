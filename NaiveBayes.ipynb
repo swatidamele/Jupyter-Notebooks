{
  "nbformat": 4,
  "nbformat_minor": 5,
  "metadata": {
    "kernelspec": {
      "display_name": "ipy-jupyter-venv3",
      "language": "python",
      "name": "myipy_jupter_env3"
    },
    "language_info": {
      "codemirror_mode": {
        "name": "ipython",
        "version": 3
      },
      "file_extension": ".py",
      "mimetype": "text/x-python",
      "name": "python",
      "nbconvert_exporter": "python",
      "pygments_lexer": "ipython3",
      "version": "3.9.2"
    },
    "colab": {
      "name": "NaiveBayes.ipynb",
      "provenance": [],
      "collapsed_sections": [],
      "include_colab_link": true
    }
  },
  "cells": [
    {
      "cell_type": "markdown",
      "metadata": {
        "id": "view-in-github",
        "colab_type": "text"
      },
      "source": [
        "<a href=\"https://colab.research.google.com/github/swatidamele/Jupyter-Notebooks/blob/main/NaiveBayes.ipynb\" target=\"_parent\"><img src=\"https://colab.research.google.com/assets/colab-badge.svg\" alt=\"Open In Colab\"/></a>"
      ]
    },
    {
      "cell_type": "code",
      "metadata": {
        "id": "03e9758b"
      },
      "source": [
        "import pandas as pd\n",
        "from random import randrange\n",
        "import random"
      ],
      "id": "03e9758b",
      "execution_count": 83,
      "outputs": []
    },
    {
      "cell_type": "code",
      "metadata": {
        "id": "0381161d"
      },
      "source": [
        "NEG = 0\n",
        "POS = 1\n",
        "ALL = 2"
      ],
      "id": "0381161d",
      "execution_count": 84,
      "outputs": []
    },
    {
      "cell_type": "code",
      "metadata": {
        "colab": {
          "base_uri": "https://localhost:8080/"
        },
        "id": "4f459219",
        "outputId": "ab768d20-0048-4ece-93e1-f74016b33dbb"
      },
      "source": [
        "df=pd.read_csv(r\"https://raw.githubusercontent.com/swatidamele/Jupyter-Notebooks/main/imdb_labelled.txt\",delimiter=\"\\t\",header=None,names=[\"IMDB Review\",\"Sentiment\"])\n",
        "df.columns"
      ],
      "id": "4f459219",
      "execution_count": 85,
      "outputs": [
        {
          "output_type": "execute_result",
          "data": {
            "text/plain": [
              "Index(['IMDB Review', 'Sentiment'], dtype='object')"
            ]
          },
          "metadata": {
            "tags": []
          },
          "execution_count": 85
        }
      ]
    },
    {
      "cell_type": "code",
      "metadata": {
        "colab": {
          "base_uri": "https://localhost:8080/",
          "height": 419
        },
        "id": "b7d7f17e",
        "outputId": "4fe5e2ab-fef2-4f9a-85bc-dc81a21cbc7c"
      },
      "source": [
        "df=df.replace(',','',regex=True).replace('!','',regex=True).replace('\\.','',regex=True).replace('-','',regex=True)\n",
        "df   "
      ],
      "id": "b7d7f17e",
      "execution_count": 86,
      "outputs": [
        {
          "output_type": "execute_result",
          "data": {
            "text/html": [
              "<div>\n",
              "<style scoped>\n",
              "    .dataframe tbody tr th:only-of-type {\n",
              "        vertical-align: middle;\n",
              "    }\n",
              "\n",
              "    .dataframe tbody tr th {\n",
              "        vertical-align: top;\n",
              "    }\n",
              "\n",
              "    .dataframe thead th {\n",
              "        text-align: right;\n",
              "    }\n",
              "</style>\n",
              "<table border=\"1\" class=\"dataframe\">\n",
              "  <thead>\n",
              "    <tr style=\"text-align: right;\">\n",
              "      <th></th>\n",
              "      <th>IMDB Review</th>\n",
              "      <th>Sentiment</th>\n",
              "    </tr>\n",
              "  </thead>\n",
              "  <tbody>\n",
              "    <tr>\n",
              "      <th>0</th>\n",
              "      <td>A very very very slowmoving aimless movie abou...</td>\n",
              "      <td>0</td>\n",
              "    </tr>\n",
              "    <tr>\n",
              "      <th>1</th>\n",
              "      <td>Not sure who was more lost  the flat character...</td>\n",
              "      <td>0</td>\n",
              "    </tr>\n",
              "    <tr>\n",
              "      <th>2</th>\n",
              "      <td>Attempting artiness with black &amp; white and cle...</td>\n",
              "      <td>0</td>\n",
              "    </tr>\n",
              "    <tr>\n",
              "      <th>3</th>\n",
              "      <td>Very little music or anything to speak of</td>\n",
              "      <td>0</td>\n",
              "    </tr>\n",
              "    <tr>\n",
              "      <th>4</th>\n",
              "      <td>The best scene in the movie was when Gerardo i...</td>\n",
              "      <td>1</td>\n",
              "    </tr>\n",
              "    <tr>\n",
              "      <th>...</th>\n",
              "      <td>...</td>\n",
              "      <td>...</td>\n",
              "    </tr>\n",
              "    <tr>\n",
              "      <th>743</th>\n",
              "      <td>I just got bored watching Jessice Lange take h...</td>\n",
              "      <td>0</td>\n",
              "    </tr>\n",
              "    <tr>\n",
              "      <th>744</th>\n",
              "      <td>Unfortunately any virtue in this film's produc...</td>\n",
              "      <td>0</td>\n",
              "    </tr>\n",
              "    <tr>\n",
              "      <th>745</th>\n",
              "      <td>In a word it is embarrassing</td>\n",
              "      <td>0</td>\n",
              "    </tr>\n",
              "    <tr>\n",
              "      <th>746</th>\n",
              "      <td>Exceptionally bad</td>\n",
              "      <td>0</td>\n",
              "    </tr>\n",
              "    <tr>\n",
              "      <th>747</th>\n",
              "      <td>All in all its an insult to one's intelligence...</td>\n",
              "      <td>0</td>\n",
              "    </tr>\n",
              "  </tbody>\n",
              "</table>\n",
              "<p>748 rows × 2 columns</p>\n",
              "</div>"
            ],
            "text/plain": [
              "                                           IMDB Review  Sentiment\n",
              "0    A very very very slowmoving aimless movie abou...          0\n",
              "1    Not sure who was more lost  the flat character...          0\n",
              "2    Attempting artiness with black & white and cle...          0\n",
              "3          Very little music or anything to speak of            0\n",
              "4    The best scene in the movie was when Gerardo i...          1\n",
              "..                                                 ...        ...\n",
              "743  I just got bored watching Jessice Lange take h...          0\n",
              "744  Unfortunately any virtue in this film's produc...          0\n",
              "745                     In a word it is embarrassing            0\n",
              "746                                Exceptionally bad            0\n",
              "747  All in all its an insult to one's intelligence...          0\n",
              "\n",
              "[748 rows x 2 columns]"
            ]
          },
          "metadata": {
            "tags": []
          },
          "execution_count": 86
        }
      ]
    },
    {
      "cell_type": "code",
      "metadata": {
        "colab": {
          "base_uri": "https://localhost:8080/"
        },
        "id": "ff779bef",
        "outputId": "9085a9f5-a502-4c27-d64b-da6047f9621f"
      },
      "source": [
        "split_1 = int(0.8 * len(df))\n",
        "split_2 = int(0.9 * len(df))\n",
        "train_data = df[:split_1]\n",
        "dev_data = df[split_1:split_2]\n",
        "test_data = df[split_2:]\n",
        "print(\"Train Data\")\n",
        "print((train_data))\n",
        "print(\"Dev Data\")\n",
        "print((dev_data))\n",
        "print(\"Test Data\")\n",
        "print((test_data))"
      ],
      "id": "ff779bef",
      "execution_count": 87,
      "outputs": [
        {
          "output_type": "stream",
          "text": [
            "Train Data\n",
            "                                           IMDB Review  Sentiment\n",
            "0    A very very very slowmoving aimless movie abou...          0\n",
            "1    Not sure who was more lost  the flat character...          0\n",
            "2    Attempting artiness with black & white and cle...          0\n",
            "3          Very little music or anything to speak of            0\n",
            "4    The best scene in the movie was when Gerardo i...          1\n",
            "..                                                 ...        ...\n",
            "593  This film highlights the fundamental flaws of ...          1\n",
            "594  The film is well paced understated and one of ...          1\n",
            "595  This mostly routine factbased TV drama gets a ...          1\n",
            "596                  Predictable but not a bad watch            1\n",
            "597  It was clear that she had the range and abilit...          1\n",
            "\n",
            "[598 rows x 2 columns]\n",
            "Dev Data\n",
            "                                           IMDB Review  Sentiment\n",
            "598                       She carries the movie well            1\n",
            "599  Constantine gives everything the right intensi...          1\n",
            "600  It is wonderful and inspiring to watch and I h...          1\n",
            "601  How this piece of trash was ever released is b...          0\n",
            "602  In fact this stinker smells like a directtovid...          0\n",
            "..                                                 ...        ...\n",
            "668            The story line is totally predictable            0\n",
            "669  Not much dialogue not much music the whole fil...          1\n",
            "670  I've seen soap operas more intelligent than th...          0\n",
            "671          Bad characters bad story and bad acting            0\n",
            "672                                     Really awful            0\n",
            "\n",
            "[75 rows x 2 columns]\n",
            "Test Data\n",
            "                                           IMDB Review  Sentiment\n",
            "673                                Not easy to watch            0\n",
            "674  Funny clever hip  just like Pray's previous fi...          1\n",
            "675  It was a long time that i didn't see a so char...          1\n",
            "676  Paolo Sorrentino has written a wonderful story...          1\n",
            "677  The movie is not completely perfect but 'Titta...          1\n",
            "..                                                 ...        ...\n",
            "743  I just got bored watching Jessice Lange take h...          0\n",
            "744  Unfortunately any virtue in this film's produc...          0\n",
            "745                     In a word it is embarrassing            0\n",
            "746                                Exceptionally bad            0\n",
            "747  All in all its an insult to one's intelligence...          0\n",
            "\n",
            "[75 rows x 2 columns]\n"
          ],
          "name": "stdout"
        }
      ]
    },
    {
      "cell_type": "code",
      "metadata": {
        "id": "c2e4dfb5"
      },
      "source": [
        "# rawData = open('imdb_labelled.txt').read()"
      ],
      "id": "c2e4dfb5",
      "execution_count": 88,
      "outputs": []
    },
    {
      "cell_type": "code",
      "metadata": {
        "id": "cfaaefbf"
      },
      "source": [
        "# l = ['.',',','!','(',')','-','[',']','{','}',';',':','<','>','/','?','@','#','$','%','^','&','*','_','~']\n",
        "# validation_data = [ x.replace(y,'')  for x in validation_data_temp for y in l if y in x ]\n",
        "# print(validation_data)\n",
        "\n",
        "                       "
      ],
      "id": "cfaaefbf",
      "execution_count": 89,
      "outputs": []
    },
    {
      "cell_type": "code",
      "metadata": {
        "id": "7ef91630"
      },
      "source": [
        "validation_data=train_data.values.tolist()\n"
      ],
      "id": "7ef91630",
      "execution_count": 90,
      "outputs": []
    },
    {
      "cell_type": "code",
      "metadata": {
        "id": "975391de"
      },
      "source": [
        "def count_sentence(data):\n",
        "    label_count=[0,0, len(data)] # [neg_count, pos_count, all_count]\n",
        "    for item in data:\n",
        "        #label_count[ALL]+=1\n",
        "        if item[1]== 0:\n",
        "            label_count[NEG]+=1\n",
        "        else:\n",
        "            label_count[POS]+=1\n",
        "            \n",
        "    return label_count"
      ],
      "id": "975391de",
      "execution_count": 91,
      "outputs": []
    },
    {
      "cell_type": "code",
      "metadata": {
        "id": "bdfc8c3a"
      },
      "source": [
        "def word_vocabulary(data,threshold):\n",
        "   \n",
        "    vocab={}\n",
        "    \n",
        "    for sent in data:\n",
        "        count=0\n",
        "        for content in sent:\n",
        "            if(count%2==0): \n",
        "                word_list = content.split()\n",
        "                #print(word_list+\"\\n\")\n",
        "                for word in word_list:\n",
        "                    #print(word)\n",
        "                    if word.lower() not in vocab:\n",
        "                        vocab[word.lower()]=[0,0,0]\n",
        "                    else:\n",
        "                        vocab[word.lower()][ALL]+=1\n",
        "                        #print(vocab[word.lower()][POS])\n",
        "                        if(sent[count+1]==1):\n",
        "                            vocab[word.lower()][POS]+=1\n",
        "                            #print(\"testPOS\")\n",
        "                        else:\n",
        "                            if(sent[count+1]==0):\n",
        "                                vocab[word.lower()][NEG]+=1\n",
        "                                #print(\"testPOS\")\n",
        "                count+=1\n",
        "                    \n",
        "    for key in list(vocab.keys()):\n",
        "        #print(key)\n",
        "        if vocab[key][ALL]<threshold:\n",
        "            del vocab[key]\n",
        "            \n",
        "    #print(vocab.values())            \n",
        "    return(vocab)"
      ],
      "id": "bdfc8c3a",
      "execution_count": 92,
      "outputs": []
    },
    {
      "cell_type": "code",
      "metadata": {
        "colab": {
          "base_uri": "https://localhost:8080/"
        },
        "id": "0ce0456d",
        "outputId": "2c51cab6-95e8-4522-c468-5896a6817b01"
      },
      "source": [
        "total_count = count_sentence(validation_data)\n",
        "print(\"Count of sentences [Negative,Positive,All] is \",total_count)"
      ],
      "id": "0ce0456d",
      "execution_count": 93,
      "outputs": [
        {
          "output_type": "stream",
          "text": [
            "Count of sentences [Negative,Positive,All] is  [313, 285, 598]\n"
          ],
          "name": "stdout"
        }
      ]
    },
    {
      "cell_type": "code",
      "metadata": {
        "colab": {
          "base_uri": "https://localhost:8080/"
        },
        "id": "4a8ecb82",
        "outputId": "716ddaf5-9558-4878-d03e-afa54b36a0c4"
      },
      "source": [
        "Dict = word_vocabulary(validation_data,5)\n",
        "df_dict = pd.DataFrame(list(Dict.items()),columns = ['Word','Count [Negative,Positive,All]'])  \n",
        "print(df_dict)"
      ],
      "id": "4a8ecb82",
      "execution_count": 94,
      "outputs": [
        {
          "output_type": "stream",
          "text": [
            "       Word Count [Negative,Positive,All]\n",
            "0         a               [181, 156, 337]\n",
            "1      very                  [34, 25, 59]\n",
            "2     movie                 [82, 59, 141]\n",
            "3     about                  [22, 14, 36]\n",
            "4       man                     [4, 5, 9]\n",
            "..      ...                           ...\n",
            "258      am                     [6, 1, 7]\n",
            "259  seeing                     [2, 3, 5]\n",
            "260    each                     [2, 3, 5]\n",
            "261   makes                     [1, 5, 6]\n",
            "262  second                     [4, 1, 5]\n",
            "\n",
            "[263 rows x 2 columns]\n"
          ],
          "name": "stdout"
        }
      ]
    },
    {
      "cell_type": "code",
      "metadata": {
        "colab": {
          "base_uri": "https://localhost:8080/"
        },
        "id": "9dac104b",
        "outputId": "41ee24f0-60a1-49aa-9a12-d953feded971"
      },
      "source": [
        "P_word = {}\n",
        "\n",
        "for word in Dict:\n",
        "    word_count = int(Dict[word][ALL])\n",
        "    total_all = total_count[ALL]\n",
        "    P = word_count/total_all\n",
        "    P_word[word] = P\n",
        "df_p_word = pd.DataFrame(list(P_word.items()),columns = ['Word','Probability(Word)'])     \n",
        "print(df_p_word) "
      ],
      "id": "9dac104b",
      "execution_count": 95,
      "outputs": [
        {
          "output_type": "stream",
          "text": [
            "       Word  Probability(Word)\n",
            "0         a           0.563545\n",
            "1      very           0.098662\n",
            "2     movie           0.235786\n",
            "3     about           0.060201\n",
            "4       man           0.015050\n",
            "..      ...                ...\n",
            "258      am           0.011706\n",
            "259  seeing           0.008361\n",
            "260    each           0.008361\n",
            "261   makes           0.010033\n",
            "262  second           0.008361\n",
            "\n",
            "[263 rows x 2 columns]\n"
          ],
          "name": "stdout"
        }
      ]
    },
    {
      "cell_type": "code",
      "metadata": {
        "colab": {
          "base_uri": "https://localhost:8080/"
        },
        "id": "0796e77b",
        "outputId": "2569559b-e1d2-485b-9600-df94ebc34302"
      },
      "source": [
        "P_conditional_pos_word = {}\n",
        "\n",
        "for word in Dict:\n",
        "    word_count = int(Dict[word][POS])\n",
        "    total = total_count[POS]\n",
        "    P = word_count/total\n",
        "    P_conditional_pos_word[word.lower()] = P\n",
        "df_p_conditional_pos_word = pd.DataFrame(list(P_conditional_pos_word.items()),columns = ['Word','Probability(Word|Positive)'])      \n",
        "print(df_p_conditional_pos_word)            "
      ],
      "id": "0796e77b",
      "execution_count": 96,
      "outputs": [
        {
          "output_type": "stream",
          "text": [
            "       Word  Probability(Word|Positive)\n",
            "0         a                    0.547368\n",
            "1      very                    0.087719\n",
            "2     movie                    0.207018\n",
            "3     about                    0.049123\n",
            "4       man                    0.017544\n",
            "..      ...                         ...\n",
            "258      am                    0.003509\n",
            "259  seeing                    0.010526\n",
            "260    each                    0.010526\n",
            "261   makes                    0.017544\n",
            "262  second                    0.003509\n",
            "\n",
            "[263 rows x 2 columns]\n"
          ],
          "name": "stdout"
        }
      ]
    },
    {
      "cell_type": "code",
      "metadata": {
        "colab": {
          "base_uri": "https://localhost:8080/"
        },
        "id": "288e3cca",
        "outputId": "219e6b44-8340-47f7-acac-ae3663117311"
      },
      "source": [
        "P_conditional_neg_word = {}\n",
        "\n",
        "for word in Dict:\n",
        "    word_count_n = int(Dict[word][NEG])\n",
        "    total_n = total_count[NEG]\n",
        "    P_n = word_count_n/total_n\n",
        "    P_conditional_neg_word[word.lower()] = P_n\n",
        "df_p_conditional_neg_word = pd.DataFrame(list(P_conditional_pos_word.items()),columns = ['Word','Probability(Word|Negative)'])     \n",
        "print(df_p_conditional_neg_word)         "
      ],
      "id": "288e3cca",
      "execution_count": 97,
      "outputs": [
        {
          "output_type": "stream",
          "text": [
            "       Word  Probability(Word|Negative)\n",
            "0         a                    0.547368\n",
            "1      very                    0.087719\n",
            "2     movie                    0.207018\n",
            "3     about                    0.049123\n",
            "4       man                    0.017544\n",
            "..      ...                         ...\n",
            "258      am                    0.003509\n",
            "259  seeing                    0.010526\n",
            "260    each                    0.010526\n",
            "261   makes                    0.017544\n",
            "262  second                    0.003509\n",
            "\n",
            "[263 rows x 2 columns]\n"
          ],
          "name": "stdout"
        }
      ]
    },
    {
      "cell_type": "code",
      "metadata": {
        "id": "dad2efc1"
      },
      "source": [
        "\n",
        "k=5\n",
        "\n",
        "folds=validation_data \n",
        "#print(validation_data)\n",
        "fold_size= int((len(validation_data))/5)\n",
        "#print(fold_size)\n",
        "# for j in range(k):\n",
        "#     fold=[]\n",
        "#     for i in range(fold_size):\n",
        "#         random_index=randrange(50)\n",
        "#         if len(validation_data)>0:\n",
        "#             #print(validation_data[random_index][0])\n",
        "#             fold.append(validation_data[random_index][0])\n",
        "#             #fold.append(random.choice(validation_data))\n",
        "#             #print(fold)\n",
        "#             #fold.append(newData_validate.pop(random_index))\n",
        "#             #print(i)\n",
        "#     folds.append(fold)\n",
        "#     #print(folds)\n",
        "\n",
        "train_fold = folds[:450]\n",
        "test_fold = folds[450:]\n",
        "\n",
        "\n",
        "\n",
        "# fold_count = 0    \n",
        "# for fold in folds:\n",
        "#     if(fold_count == 4):\n",
        "#         test_fold = fold\n",
        "#     else:\n",
        "#         train_fold = train_fold + fold\n",
        "#     fold_count+=1\n",
        "    #train_fold = folds\n",
        "    #train_fold.remove(fold)\n",
        "    #train_fold = sum(train_fold, [])\n",
        "    #test_fold = fold\n",
        "#print(train_fold)\n",
        "   \n",
        "\n",
        "\n",
        "\n"
      ],
      "id": "dad2efc1",
      "execution_count": 98,
      "outputs": []
    },
    {
      "cell_type": "code",
      "metadata": {
        "id": "00961572"
      },
      "source": [
        "def predicted_sentiment(review, vocabulary, label_count, lam):\n",
        "\n",
        "    probability = []\n",
        "\n",
        "    for label in[0,1]:\n",
        "        prob = 1.0\n",
        "        counter = 0\n",
        "        for row in review:\n",
        "            if(counter%2==0):\n",
        "                sentarray = row.lower().split()\n",
        "                for word in sentarray:\n",
        "                    if word not in vocabulary:\n",
        "                        continue\n",
        "                    if lam == 0 and vocabulary[word][label]==0:\n",
        "                        prob = 0\n",
        "                        break\n",
        "                    prob = round(prob*((vocabulary[word][label]+lam) / (label_count[label]+(lam*len(vocabulary)))),5)        \n",
        "                counter+=1       \n",
        "        probability.append(prob)  \n",
        "    return 0 if probability[NEG]>probability[POS] else 1\n",
        "   "
      ],
      "id": "00961572",
      "execution_count": 99,
      "outputs": []
    },
    {
      "cell_type": "code",
      "metadata": {
        "colab": {
          "base_uri": "https://localhost:8080/"
        },
        "id": "ee77582d",
        "outputId": "7f9862ac-4bc8-49ab-ea4c-fc68404f9921"
      },
      "source": [
        "l = [0,1]  \n",
        "\n",
        "occurrence_shreshold = 5\n",
        "\n",
        "new_train_fold = []\n",
        "\n",
        "voca = word_vocabulary(train_fold, occurrence_shreshold)\n",
        "\n",
        "label_count = count_sentence(train_fold)\n",
        "\n",
        "for lam in l:\n",
        "    accuracy = []\n",
        "    correct = 0\n",
        "    for review in test_fold:\n",
        "        flag1 = predicted_sentiment(review, voca, label_count, lam)\n",
        "        flag2 = int(review[1])\n",
        "        if(flag1 == flag2):\n",
        "            correct+=1\n",
        "    accuracy.append(correct/len(test_fold))\n",
        "    if(lam==0):\n",
        "        print(\"Accuracy without smoothing is : \",accuracy)\n",
        "    else:\n",
        "        print(\"\\nAccuracy with smoothing is : \",accuracy)"
      ],
      "id": "ee77582d",
      "execution_count": 100,
      "outputs": [
        {
          "output_type": "stream",
          "text": [
            "Accuracy without smoothing is :  [0.5540540540540541]\n",
            "\n",
            "Accuracy with smoothing is :  [0.5945945945945946]\n"
          ],
          "name": "stdout"
        }
      ]
    },
    {
      "cell_type": "code",
      "metadata": {
        "id": "d29104e1"
      },
      "source": [
        "def prob_sentence(data,word,senti):\n",
        "    countarr=count_sentence(data)\n",
        "    finalarr=[]\n",
        "    count=0\n",
        "    count_conditional=0\n",
        "    if(senti==0):\n",
        "        count=countarr[1]\n",
        "        snt = 0\n",
        "    else:\n",
        "        count=countarr[0]\n",
        "    \n",
        "    #print(count)\n",
        "    for row in data:\n",
        "        if(row[1]==1):\n",
        "            sentencearr=row[0].lower().split()\n",
        "            if word.lower() in sentencearr:\n",
        "                count_conditional+=1\n",
        "    finalarr.append(count_conditional)\n",
        "    finalarr.append(countarr[0])\n",
        "    finalarr.append(countarr[1])\n",
        "    if(senti==0):\n",
        "        cond_prob=count_conditional/countarr[0]\n",
        "    else:\n",
        "        cond_prob=count_conditional/countarr[1]   \n",
        "    return(cond_prob)"
      ],
      "id": "d29104e1",
      "execution_count": 101,
      "outputs": []
    },
    {
      "cell_type": "code",
      "metadata": {
        "id": "5d783ce9"
      },
      "source": [
        "vocabulary = word_vocabulary(validation_data, 5)\n",
        "label_count = count_sentence(validation_data)\n",
        "\n",
        "word_predict = {}\n",
        "\n",
        "for row in validation_data:\n",
        "  for word in row[0].split():             \n",
        "    if word not in vocabulary:\n",
        "      continue\n",
        "    neg_prob = (prob_sentence(validation_data,word, NEG) * (label_count[NEG]/label_count[ALL]))/ P_word[word]\n",
        "    pos_prob = (prob_sentence(validation_data,word,POS) * (label_count[POS]/label_count[ALL]))/ P_word[word]\n",
        "    pred = NEG if neg_prob > pos_prob else POS\n",
        "    if word not in word_predict:\n",
        "      word_predict[word] = [0,0,0]\n",
        "    word_predict[word][ALL] += 1\n",
        "    if pred == int(row[1]):  \n",
        "      word_predict[word][pred] += 1\n",
        "            \n",
        "top_neg_lst = sorted(word_predict, key = lambda x: word_predict[x][NEG]/word_predict[x][ALL], reverse=True) [:10]\n",
        "top_pos_lst = sorted(word_predict, key = lambda x: word_predict[x][POS]/word_predict[x][ALL], reverse=True)[:10]\n",
        "finalarr=[]\n",
        "finalarr.append(top_neg_lst)\n",
        "finalarr.append(top_pos_lst)"
      ],
      "id": "5d783ce9",
      "execution_count": 102,
      "outputs": []
    },
    {
      "cell_type": "code",
      "metadata": {
        "colab": {
          "base_uri": "https://localhost:8080/"
        },
        "id": "c00b5017",
        "outputId": "0bc1278c-bd7d-4bda-b5ab-146e5a57af36"
      },
      "source": [
        "arr = finalarr\n",
        "print(\"Top 10 words that predict negative class are as follows: \\n\", arr[0])\n",
        "print(\"\\nTop 10 words that predict positive class are as follows: \\n\", arr[1])"
      ],
      "id": "c00b5017",
      "execution_count": 103,
      "outputs": [
        {
          "output_type": "stream",
          "text": [
            "Top 10 words that predict negative class are as follows: \n",
            " ['film', 'very', 'movie', 'about', 'a', 'man', 'who', 'was', 'more', 'the']\n",
            "\n",
            "Top 10 words that predict positive class are as follows: \n",
            " ['interesting', 'however', 'brilliant', 'wonderful', 'liked', 'actually', 'played', 'job', 'makes', 'family']\n"
          ],
          "name": "stdout"
        }
      ]
    },
    {
      "cell_type": "code",
      "metadata": {
        "id": "0ce00711"
      },
      "source": [
        ""
      ],
      "id": "0ce00711",
      "execution_count": 103,
      "outputs": []
    }
  ]
}